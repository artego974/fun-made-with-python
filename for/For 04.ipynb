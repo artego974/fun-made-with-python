{
 "cells": [
  {
   "cell_type": "markdown",
   "metadata": {},
   "source": [
    "# Enumerate\n",
    "\n",
    "### Estrutura:\n",
    "\n",
    "O enumerate permite que você percorra uma lista e ao mesmo tempo tenha em uma variável o índice daquele item.\n",
    "\n",
    "- for normalmente"
   ]
  },
  {
   "cell_type": "raw",
   "metadata": {},
   "source": [
    "for item in lista:\n",
    "    resto do código"
   ]
  },
  {
   "cell_type": "code",
   "execution_count": null,
   "metadata": {},
   "outputs": [],
   "source": [
    "funcionarios = ['Maria', 'José', 'Antônio', 'João', 'Francisco', 'Ana', 'Luiz', 'Paulo', 'Carlos', 'Manoel', 'Pedro', 'Francisca', 'Marcos', 'Raimundo', 'Sebastião', 'Antônia', 'Marcelo', 'Jorge', 'Márcia', 'Geraldo', 'Adriana', 'Sandra', 'Luis']\n",
    "for funcionario in funcionarios:\n",
    "    print(funcionario)"
   ]
  },
  {
   "cell_type": "raw",
   "metadata": {},
   "source": [
    "for i, item in enumerate(lista):\n",
    "    resto do código"
   ]
  },
  {
   "cell_type": "code",
   "execution_count": 5,
   "metadata": {
    "scrolled": false
   },
   "outputs": [
    {
     "name": "stdout",
     "output_type": "stream",
     "text": [
      "0 é o funcionário Maria\n",
      "1 é o funcionário José\n",
      "2 é o funcionário Antônio\n",
      "3 é o funcionário João\n",
      "4 é o funcionário Francisco\n",
      "5 é o funcionário Ana\n",
      "6 é o funcionário Luiz\n",
      "7 é o funcionário Paulo\n",
      "8 é o funcionário Carlos\n",
      "9 é o funcionário Manoel\n",
      "10 é o funcionário Pedro\n",
      "11 é o funcionário Francisca\n",
      "12 é o funcionário Marcos\n",
      "13 é o funcionário Raimundo\n",
      "14 é o funcionário Sebastião\n",
      "15 é o funcionário Antônia\n",
      "16 é o funcionário Marcelo\n",
      "17 é o funcionário Jorge\n",
      "18 é o funcionário Márcia\n",
      "19 é o funcionário Geraldo\n",
      "20 é o funcionário Adriana\n",
      "21 é o funcionário Sandra\n",
      "22 é o funcionário Luis\n"
     ]
    }
   ],
   "source": [
    "funcionarios = ['Maria', 'José', 'Antônio', 'João', 'Francisco', 'Ana', 'Luiz', 'Paulo', 'Carlos', 'Manoel', 'Pedro', 'Francisca', 'Marcos', 'Raimundo', 'Sebastião', 'Antônia', 'Marcelo', 'Jorge', 'Márcia', 'Geraldo', 'Adriana', 'Sandra', 'Luis']\n",
    "\n",
    "for i, funcionario in enumerate(funcionarios):\n",
    "    print('{} é o funcionário {}'.format(i, funcionario))"
   ]
  },
  {
   "cell_type": "code",
   "execution_count": 4,
   "metadata": {},
   "outputs": [
    {
     "name": "stdout",
     "output_type": "stream",
     "text": [
      "O produto 1200 é valido\n",
      "O produto 300 é valido\n",
      "O produto 800 é valido\n",
      "O produto 1500 é valido\n",
      "O produto 1900 é valido\n",
      "O produto 2750 é valido\n",
      "O produto 400 é valido\n",
      "O produto 20 é invalido\n",
      "O produto 23 é invalido\n",
      "O produto 70 é valido\n",
      "O produto 90 é valido\n",
      "O produto 80 é valido\n",
      "O produto 1100 é valido\n",
      "O produto 999 é valido\n",
      "O produto 900 é valido\n",
      "O produto 880 é valido\n",
      "O produto 870 é valido\n",
      "O produto 50 é valido\n",
      "O produto 1111 é valido\n",
      "O produto 120 é valido\n",
      "O produto 300 é valido\n",
      "O produto 450 é valido\n",
      "O produto 800 é valido\n"
     ]
    }
   ],
   "source": [
    "estoque = [1200, 300, 800, 1500, 1900, 2750, 400, 20, 23, 70, 90, 80, 1100, 999, 900, 880, 870, 50, 1111, 120, 300, 450, 800]\n",
    "produtos = ['coca', 'pepsi', 'guarana', 'skol', 'brahma', 'agua', 'del valle', 'dolly', 'red bull', 'cachaça', 'vinho tinto', 'vodka', 'vinho branco', 'tequila', 'champagne', 'gin', 'guaracamp', 'matte', 'leite de castanha', 'leite', 'jurupinga', 'sprite', 'fanta']\n",
    "nivel_minimo = 50\n",
    "\n",
    "for i in estoque:\n",
    "    if i >= nivel_minimo:\n",
    "        print(\"O produto {} é valido\".format(i) )\n",
    "    elif i <= nivel_minimo:\n",
    "        print(\"O produto {} é invalido\".format(i))"
   ]
  },
  {
   "cell_type": "markdown",
   "metadata": {},
   "source": [
    "### Exemplo Prático\n",
    "\n",
    "Vamos pegar um exemplo de nível mínimo de estoque. Em uma fábrica você tem vários produtos e não pode deixar que os produtos fiquem em falta. Para isso, foi definido uma quantidade mínima de estoque que os produtos precisam ter:\n",
    "\n",
    "Identifique quais produtos estão abaixo do nível mínimo de estoque."
   ]
  }
 ],
 "metadata": {
  "kernelspec": {
   "display_name": "Python 3",
   "language": "python",
   "name": "python3"
  },
  "language_info": {
   "codemirror_mode": {
    "name": "ipython",
    "version": 3
   },
   "file_extension": ".py",
   "mimetype": "text/x-python",
   "name": "python",
   "nbconvert_exporter": "python",
   "pygments_lexer": "ipython3",
   "version": "3.11.9"
  }
 },
 "nbformat": 4,
 "nbformat_minor": 4
}
